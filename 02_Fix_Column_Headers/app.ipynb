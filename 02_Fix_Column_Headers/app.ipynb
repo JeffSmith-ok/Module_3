{
 "cells": [
  {
   "cell_type": "code",
   "execution_count": 1,
   "metadata": {},
   "outputs": [
    {
     "data": {
      "text/html": [
       "<div>\n",
       "<style scoped>\n",
       "    .dataframe tbody tr th:only-of-type {\n",
       "        vertical-align: middle;\n",
       "    }\n",
       "\n",
       "    .dataframe tbody tr th {\n",
       "        vertical-align: top;\n",
       "    }\n",
       "\n",
       "    .dataframe thead th {\n",
       "        text-align: right;\n",
       "    }\n",
       "</style>\n",
       "<table border=\"1\" class=\"dataframe\">\n",
       "  <thead>\n",
       "    <tr style=\"text-align: right;\">\n",
       "      <th></th>\n",
       "      <th>0</th>\n",
       "      <th>1</th>\n",
       "      <th>2</th>\n",
       "      <th>3</th>\n",
       "    </tr>\n",
       "  </thead>\n",
       "  <tbody>\n",
       "    <tr>\n",
       "      <th>0</th>\n",
       "      <td>Elwanda White</td>\n",
       "      <td>alyre2036@live.com</td>\n",
       "      <td>9236</td>\n",
       "      <td>84.33</td>\n",
       "    </tr>\n",
       "    <tr>\n",
       "      <th>1</th>\n",
       "      <td>Lyndon Elliott</td>\n",
       "      <td>arrowy1873@outlook.com</td>\n",
       "      <td>1330</td>\n",
       "      <td>879.95</td>\n",
       "    </tr>\n",
       "    <tr>\n",
       "      <th>2</th>\n",
       "      <td>Daisey Sellers</td>\n",
       "      <td>toucan2024@outlook.com</td>\n",
       "      <td>7631</td>\n",
       "      <td>907.58</td>\n",
       "    </tr>\n",
       "    <tr>\n",
       "      <th>3</th>\n",
       "      <td>Issac Reeves</td>\n",
       "      <td>asarin1958@gmail.com</td>\n",
       "      <td>81168</td>\n",
       "      <td>545.88</td>\n",
       "    </tr>\n",
       "    <tr>\n",
       "      <th>4</th>\n",
       "      <td>Bradford Kinney</td>\n",
       "      <td>mibound1801@yandex.com</td>\n",
       "      <td>41721</td>\n",
       "      <td>517.49</td>\n",
       "    </tr>\n",
       "  </tbody>\n",
       "</table>\n",
       "</div>"
      ],
      "text/plain": [
       "                 0                       1      2       3\n",
       "0    Elwanda White      alyre2036@live.com   9236   84.33\n",
       "1   Lyndon Elliott  arrowy1873@outlook.com   1330  879.95\n",
       "2   Daisey Sellers  toucan2024@outlook.com   7631  907.58\n",
       "3     Issac Reeves    asarin1958@gmail.com  81168  545.88\n",
       "4  Bradford Kinney  mibound1801@yandex.com  41721  517.49"
      ]
     },
     "execution_count": 1,
     "metadata": {},
     "output_type": "execute_result"
    }
   ],
   "source": [
    "import pandas as pd\n",
    "from pathlib import Path\n",
    "csvpath = Path(\"./Resources/sales_no_header.csv\")\n",
    "sales_data = pd.read_csv(csvpath, header=None)\n",
    "sales_data.head()"
   ]
  },
  {
   "cell_type": "code",
   "execution_count": 5,
   "metadata": {},
   "outputs": [],
   "source": [
    "columns = [\"Full Name\", \"Email\", \"Zip Code\", \"Sale Price\"]\n",
    "sales_data.head()\n",
    "\n",
    "sales_data.columns = columns\n"
   ]
  },
  {
   "cell_type": "code",
   "execution_count": 6,
   "metadata": {},
   "outputs": [
    {
     "data": {
      "text/html": [
       "<div>\n",
       "<style scoped>\n",
       "    .dataframe tbody tr th:only-of-type {\n",
       "        vertical-align: middle;\n",
       "    }\n",
       "\n",
       "    .dataframe tbody tr th {\n",
       "        vertical-align: top;\n",
       "    }\n",
       "\n",
       "    .dataframe thead th {\n",
       "        text-align: right;\n",
       "    }\n",
       "</style>\n",
       "<table border=\"1\" class=\"dataframe\">\n",
       "  <thead>\n",
       "    <tr style=\"text-align: right;\">\n",
       "      <th></th>\n",
       "      <th>Full Name</th>\n",
       "      <th>Email</th>\n",
       "      <th>Zip Code</th>\n",
       "      <th>Sale Price</th>\n",
       "    </tr>\n",
       "  </thead>\n",
       "  <tbody>\n",
       "    <tr>\n",
       "      <th>0</th>\n",
       "      <td>Elwanda White</td>\n",
       "      <td>alyre2036@live.com</td>\n",
       "      <td>9236</td>\n",
       "      <td>84.33</td>\n",
       "    </tr>\n",
       "    <tr>\n",
       "      <th>1</th>\n",
       "      <td>Lyndon Elliott</td>\n",
       "      <td>arrowy1873@outlook.com</td>\n",
       "      <td>1330</td>\n",
       "      <td>879.95</td>\n",
       "    </tr>\n",
       "    <tr>\n",
       "      <th>2</th>\n",
       "      <td>Daisey Sellers</td>\n",
       "      <td>toucan2024@outlook.com</td>\n",
       "      <td>7631</td>\n",
       "      <td>907.58</td>\n",
       "    </tr>\n",
       "    <tr>\n",
       "      <th>3</th>\n",
       "      <td>Issac Reeves</td>\n",
       "      <td>asarin1958@gmail.com</td>\n",
       "      <td>81168</td>\n",
       "      <td>545.88</td>\n",
       "    </tr>\n",
       "    <tr>\n",
       "      <th>4</th>\n",
       "      <td>Bradford Kinney</td>\n",
       "      <td>mibound1801@yandex.com</td>\n",
       "      <td>41721</td>\n",
       "      <td>517.49</td>\n",
       "    </tr>\n",
       "  </tbody>\n",
       "</table>\n",
       "</div>"
      ],
      "text/plain": [
       "         Full Name                   Email  Zip Code  Sale Price\n",
       "0    Elwanda White      alyre2036@live.com      9236       84.33\n",
       "1   Lyndon Elliott  arrowy1873@outlook.com      1330      879.95\n",
       "2   Daisey Sellers  toucan2024@outlook.com      7631      907.58\n",
       "3     Issac Reeves    asarin1958@gmail.com     81168      545.88\n",
       "4  Bradford Kinney  mibound1801@yandex.com     41721      517.49"
      ]
     },
     "execution_count": 6,
     "metadata": {},
     "output_type": "execute_result"
    }
   ],
   "source": [
    "sales_data.head()"
   ]
  },
  {
   "cell_type": "code",
   "execution_count": 7,
   "metadata": {},
   "outputs": [],
   "source": [
    "sales_data = sales_data.rename(columns = {\n",
    "    \"Full Name\": \"My Name\"\n",
    "})"
   ]
  },
  {
   "cell_type": "code",
   "execution_count": 8,
   "metadata": {},
   "outputs": [
    {
     "data": {
      "text/html": [
       "<div>\n",
       "<style scoped>\n",
       "    .dataframe tbody tr th:only-of-type {\n",
       "        vertical-align: middle;\n",
       "    }\n",
       "\n",
       "    .dataframe tbody tr th {\n",
       "        vertical-align: top;\n",
       "    }\n",
       "\n",
       "    .dataframe thead th {\n",
       "        text-align: right;\n",
       "    }\n",
       "</style>\n",
       "<table border=\"1\" class=\"dataframe\">\n",
       "  <thead>\n",
       "    <tr style=\"text-align: right;\">\n",
       "      <th></th>\n",
       "      <th>My Name</th>\n",
       "      <th>Email</th>\n",
       "      <th>Zip Code</th>\n",
       "      <th>Sale Price</th>\n",
       "    </tr>\n",
       "  </thead>\n",
       "  <tbody>\n",
       "    <tr>\n",
       "      <th>0</th>\n",
       "      <td>Elwanda White</td>\n",
       "      <td>alyre2036@live.com</td>\n",
       "      <td>9236</td>\n",
       "      <td>84.33</td>\n",
       "    </tr>\n",
       "    <tr>\n",
       "      <th>1</th>\n",
       "      <td>Lyndon Elliott</td>\n",
       "      <td>arrowy1873@outlook.com</td>\n",
       "      <td>1330</td>\n",
       "      <td>879.95</td>\n",
       "    </tr>\n",
       "    <tr>\n",
       "      <th>2</th>\n",
       "      <td>Daisey Sellers</td>\n",
       "      <td>toucan2024@outlook.com</td>\n",
       "      <td>7631</td>\n",
       "      <td>907.58</td>\n",
       "    </tr>\n",
       "    <tr>\n",
       "      <th>3</th>\n",
       "      <td>Issac Reeves</td>\n",
       "      <td>asarin1958@gmail.com</td>\n",
       "      <td>81168</td>\n",
       "      <td>545.88</td>\n",
       "    </tr>\n",
       "    <tr>\n",
       "      <th>4</th>\n",
       "      <td>Bradford Kinney</td>\n",
       "      <td>mibound1801@yandex.com</td>\n",
       "      <td>41721</td>\n",
       "      <td>517.49</td>\n",
       "    </tr>\n",
       "  </tbody>\n",
       "</table>\n",
       "</div>"
      ],
      "text/plain": [
       "           My Name                   Email  Zip Code  Sale Price\n",
       "0    Elwanda White      alyre2036@live.com      9236       84.33\n",
       "1   Lyndon Elliott  arrowy1873@outlook.com      1330      879.95\n",
       "2   Daisey Sellers  toucan2024@outlook.com      7631      907.58\n",
       "3     Issac Reeves    asarin1958@gmail.com     81168      545.88\n",
       "4  Bradford Kinney  mibound1801@yandex.com     41721      517.49"
      ]
     },
     "execution_count": 8,
     "metadata": {},
     "output_type": "execute_result"
    }
   ],
   "source": [
    "sales_data.head()"
   ]
  },
  {
   "cell_type": "code",
   "execution_count": null,
   "metadata": {},
   "outputs": [],
   "source": []
  },
  {
   "cell_type": "code",
   "execution_count": null,
   "metadata": {},
   "outputs": [],
   "source": []
  }
 ],
 "metadata": {
  "kernelspec": {
   "display_name": "Python 3.7.13 ('dev')",
   "language": "python",
   "name": "python3"
  },
  "language_info": {
   "codemirror_mode": {
    "name": "ipython",
    "version": 3
   },
   "file_extension": ".py",
   "mimetype": "text/x-python",
   "name": "python",
   "nbconvert_exporter": "python",
   "pygments_lexer": "ipython3",
   "version": "3.7.13"
  },
  "orig_nbformat": 4,
  "vscode": {
   "interpreter": {
    "hash": "bb4896eba2e43e817e326f95005b77416bfc5ca3345d6b1e7240300d542134ef"
   }
  }
 },
 "nbformat": 4,
 "nbformat_minor": 2
}
